{
 "cells": [
  {
   "cell_type": "code",
   "execution_count": null,
   "metadata": {},
   "outputs": [],
   "source": [
    "import pandas as pd\n",
    "import numpy as np\n",
    "\n",
    "import keras\n",
    "from keras.models import Sequential\n",
    "from keras.utils import to_categorical\n",
    "from keras.layers.recurrent import LSTM\n",
    "from keras_self_attention import SeqSelfAttention\n",
    "from keras.layers.core import Activation, Dense, Dropout\n",
    "from keras.callbacks import EarlyStopping\n",
    "\n",
    "from sklearn.preprocessing import MinMaxScaler"
   ]
  },
  {
   "cell_type": "code",
   "execution_count": null,
   "metadata": {},
   "outputs": [],
   "source": [
    "df = pd.read_csv('processed_data.csv')\n",
    "tickers = df['Ticker'].unique()\n",
    "df.set_index(['Ticker', 'Date'], inplace=True)"
   ]
  },
  {
   "cell_type": "code",
   "execution_count": null,
   "metadata": {},
   "outputs": [],
   "source": [
    "test = df.loc[804][35:]\n",
    "test.insert(0, 'Change_Indicator', np.where(test['ROCP_Close'] >= 0, 1, 0))\n",
    "dimensions = len(test.columns)\n",
    "del test"
   ]
  },
  {
   "cell_type": "code",
   "execution_count": null,
   "metadata": {},
   "outputs": [],
   "source": [
    "def load_data(df, sequence_length=10):\n",
    "    data_all = np.array(df).astype(float)\n",
    "    scaler = MinMaxScaler()\n",
    "    data_all = scaler.fit_transform(data_all)\n",
    "    data = []\n",
    "    for i in range(len(data_all) - sequence_length - 1):\n",
    "        data.append(data_all[i: i + sequence_length + 1])\n",
    "    reshaped_data = np.array(data).astype('float64')\n",
    "    np.random.shuffle(reshaped_data)\n",
    "    \n",
    "    x = reshaped_data[:, :-1]\n",
    "    y = reshaped_data[:, -1]\n",
    "    split_boundary = reshaped_data.shape[0] - 700\n",
    "    train_x = x[:split_boundary]\n",
    "    test_x = x[split_boundary:]\n",
    "\n",
    "    train_y = y[:split_boundary, 0]\n",
    "    test_y = y[split_boundary:, 0]\n",
    "    return train_x, train_y, test_x, test_y, scaler"
   ]
  },
  {
   "cell_type": "code",
   "execution_count": null,
   "metadata": {},
   "outputs": [],
   "source": [
    "def build_model(using_attention = False):\n",
    "    model = Sequential()\n",
    "    if using_attention:\n",
    "        model.add(SeqSelfAttention(attention_activation='sigmoid'))\n",
    "        model.add(Dropout(.2))\n",
    "    model.add(LSTM(200, input_dim=dimensions, return_sequences=True))\n",
    "    model.add(Dropout(.2))\n",
    "    model.add(LSTM(200, return_sequences=False))\n",
    "    model.add(Dropout(.2))\n",
    "    model.add(Dense(200))\n",
    "    model.add(Dropout(.2))\n",
    "    model.add(Dense(2, activation='softmax'))\n",
    "    model.add(Activation('linear'))\n",
    "\n",
    "    model.compile(loss='binary_crossentropy', optimizer='adam', metrics=['accuracy'])\n",
    "    return model"
   ]
  },
  {
   "cell_type": "code",
   "execution_count": null,
   "metadata": {},
   "outputs": [],
   "source": [
    "def train_model(train_x, train_y, test_x, test_y, using_attention = False):\n",
    "    model = build_model(using_attention)\n",
    "\n",
    "    try:\n",
    "        labels = to_categorical(train_y, num_classes=2)\n",
    "        callbacks = [EarlyStopping(monitor='loss', min_delta=0.001, patience=3, verbose=0, mode='auto')]\n",
    "        model.fit(train_x, labels, batch_size=512, nb_epoch=300, callbacks=callbacks, verbose=0, validation_split=0.3)\n",
    "        predict = model.predict(test_x)\n",
    "        predict = np.reshape(predict, (predict.size, ))\n",
    "    except KeyboardInterrupt:\n",
    "        print(predict)\n",
    "        print(test_y)\n",
    "        \n",
    "    return predict, test_y, callbacks[0].stopped_epoch"
   ]
  },
  {
   "cell_type": "code",
   "execution_count": null,
   "metadata": {},
   "outputs": [],
   "source": [
    "model_results = pd.DataFrame(columns=['name', 'ticker', 'accuracy', 'total_change', 'predicted_investment', 'early_stop', 'time_in_seconds'])\n",
    "model_results.set_index(['name', 'ticker'], inplace=True)"
   ]
  },
  {
   "cell_type": "code",
   "execution_count": null,
   "metadata": {},
   "outputs": [],
   "source": [
    "for tick in tickers:\n",
    "    df_stock = df.loc[tick][35:]\n",
    "    df_stock = df_stock.replace([np.inf, -np.inf], np.nan)\n",
    "    df_stock = df_stock.dropna()\n",
    "    df_stock = df_stock[df_stock['Volume'] > 0]\n",
    "    \n",
    "    if len(df_stock) < 1060:\n",
    "        print(\"Not enough data for \" + str(tick))\n",
    "        continue\n",
    "        \n",
    "    df_stock.insert(0, 'Change_Indicator', np.where(df_stock['ROCP_Close'] >= 0, 1, 0))\n",
    "    \n",
    "    for using_attention in (False, True):\n",
    "        name = 'Attention-LSTM' if using_attention else 'LSTM'\n",
    "        print(\"Starting \" + name + \" \" + str(tick))\n",
    "        \n",
    "        train_x, train_y, test_x, test_y, scaler = load_data(df_stock.copy())\n",
    "        train_x = np.reshape(train_x, (train_x.shape[0], train_x.shape[1], dimensions))\n",
    "        test_x = np.reshape(test_x, (test_x.shape[0], test_x.shape[1], dimensions))\n",
    "        predict_y, test_y, early_stop_time = train_model(train_x, train_y, test_x, test_y, using_attention)\n",
    "\n",
    "        indicator = list()\n",
    "        count = 0\n",
    "        for i in range(1, len(predict_y), 2):\n",
    "            count += 1\n",
    "            indicator.append(1 if predict_y[i] >= predict_y[i - 1] else 0)\n",
    "\n",
    "        correct = 0\n",
    "        comp = list()\n",
    "        test_position = 1\n",
    "        \n",
    "        for i in range(len(indicator)):\n",
    "            if indicator[i] == test_y[i]:\n",
    "                correct += 1\n",
    "                comp.append(1)\n",
    "            else:\n",
    "                comp.append(0)\n",
    "\n",
    "            daily_change = (df_stock['Close'].iloc[-700 + i] - df_stock['Open'].iloc[-700 + i])/df_stock['Open'].iloc[-700 + i]\n",
    "            test_position *= 1 + (daily_change * (1 if indicator[i] == 1 else -1))\n",
    "\n",
    "        total_change = df_stock['Close'][-1]/df_stock['Close'][-700]\n",
    "        model_results.loc[(name, tick), ('accuracy', 'total_change', 'predicted_investment', 'early_stop')] = [correct/len(indicator), total_change, test_position, early_stop_time]"
   ]
  },
  {
   "cell_type": "code",
   "execution_count": null,
   "metadata": {},
   "outputs": [],
   "source": [
    "model_results.to_csv('keras_validation_results.csv')"
   ]
  }
 ],
 "metadata": {
  "kernelspec": {
   "display_name": "Python 3",
   "language": "python",
   "name": "python3"
  },
  "language_info": {
   "codemirror_mode": {
    "name": "ipython",
    "version": 3
   },
   "file_extension": ".py",
   "mimetype": "text/x-python",
   "name": "python",
   "nbconvert_exporter": "python",
   "pygments_lexer": "ipython3",
   "version": "3.5.5"
  }
 },
 "nbformat": 4,
 "nbformat_minor": 2
}

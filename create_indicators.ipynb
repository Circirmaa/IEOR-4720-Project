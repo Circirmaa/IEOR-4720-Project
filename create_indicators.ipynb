{
 "cells": [
  {
   "cell_type": "code",
   "execution_count": 1,
   "metadata": {},
   "outputs": [],
   "source": [
    "import pandas as pd\n",
    "import numpy as np\n",
    "from talib import abstract"
   ]
  },
  {
   "cell_type": "code",
   "execution_count": 2,
   "metadata": {},
   "outputs": [],
   "source": [
    "df = pd.read_csv('raw_data.csv')\n",
    "df.set_index(['Ticker', 'Date'], inplace=True)\n",
    "df = df.dropna(subset=['Volume'])\n",
    "del df['Unnamed: 7']  # Why is this column appearing?\n",
    "df = df.sort_index()"
   ]
  },
  {
   "cell_type": "code",
   "execution_count": 3,
   "metadata": {},
   "outputs": [],
   "source": [
    "tickers = df.index.levels[0].unique()"
   ]
  },
  {
   "cell_type": "code",
   "execution_count": 4,
   "metadata": {},
   "outputs": [],
   "source": [
    "# Simple Moving Average\n",
    "SMA = abstract.SMA\n",
    "ROCP = abstract.ROCP\n",
    "MACD = abstract.MACD\n",
    "RSI = abstract.RSI\n",
    "BBANDS = abstract.BBANDS"
   ]
  },
  {
   "cell_type": "code",
   "execution_count": 5,
   "metadata": {},
   "outputs": [],
   "source": [
    "cols = [\"5MA_Close\", \"5MA_Close_Returns\", \"10MA_Close\", \"10MA_Close_Returns\", \"20MA_Close\", \"20MA_Close_Returns\", \"30MA_Close\", \"30MA_Close_Returns\", \"ROCP_Close\", \"ROCP_Open\", \"ROCP_High\", \"ROCP_Low\",  \"ROCP_Volume\", \"DIF\", \"DEA\", \"MACD\", \"DIFROCP\", \"DEAROCP\", \"MACDROCP\", \"RSI6\", \"RSI16\", \"RSI24\", \"RSI6ROCP\", \"RSI16ROCP\", \"RSI24ROCP\", \"BBAND_Up\", \"BBAND_Mid\", \"BBAND_Low\", \"ROCP_Price_Volume\", \"5MA_Volume\", \"5MA_Volume_Returns\", \"10MA_Volume\", \"10MA_Volume_Returns\", \"20MA_Volume\", \"20MA_Volume_Returns\", \"30MA_Volume\",\"30MA_Volume_Returns\",]\n",
    "df_h = pd.DataFrame(np.nan, index=df.index, columns=cols)"
   ]
  },
  {
   "cell_type": "code",
   "execution_count": 6,
   "metadata": {},
   "outputs": [],
   "source": [
    "for t in tickers:\n",
    "    # @TODO: Remove 828 from data set.\n",
    "    if t == 828:\n",
    "        continue\n",
    "        \n",
    "    df_t = df.loc[t]\n",
    "    df_t = pd.concat([df_t], keys=[t], names=['Ticker'])\n",
    "\n",
    "    inputs = {\n",
    "    'open': df_t['Open'],\n",
    "    'high': df_t['High'],\n",
    "    'low': df_t['Low'],\n",
    "    'close': df_t['Close'],\n",
    "    'volume': df_t['Volume']\n",
    "    }\n",
    "    \n",
    "    df_h.loc[t][\"5MA_Close\"] = SMA(inputs, timeperiod=5, price='close')\n",
    "    df_h.loc[t][\"5MA_Close_Returns\"] = df_h.loc[t][\"5MA_Close\"].pct_change()  # Isn't this just this ROC?\n",
    "    df_h.loc[t][\"10MA_Close\"] = SMA(inputs, timeperiod=10, price='close')\n",
    "    df_h.loc[t][\"10MA_Close_Returns\"] = df_h.loc[t][\"10MA_Close\"].pct_change()  # Isn't this just this ROC?\n",
    "    df_h.loc[t][\"20MA_Close\"] = SMA(inputs, timeperiod=20, price='close')\n",
    "    df_h.loc[t][\"20MA_Close_Returns\"] = df_h.loc[t][\"20MA_Close\"].pct_change()  # Isn't this just this ROC?\n",
    "    df_h.loc[t][\"30MA_Close\"] = SMA(inputs, timeperiod=30, price='close')\n",
    "    df_h.loc[t][\"30MA_Close_Returns\"] = df_h.loc[t][\"30MA_Close\"].pct_change()  # Isn't this just this ROC? \n",
    "\n",
    "    df_h.loc[t][\"ROCP_Close\"] = ROCP(inputs, timeperiod=1, price='close')\n",
    "    df_h.loc[t][\"ROCP_Open\"] = ROCP(inputs, timeperiod=1, price='open')\n",
    "    df_h.loc[t][\"ROCP_High\"] = ROCP(inputs, timeperiod=1, price='high')    \n",
    "    df_h.loc[t][\"ROCP_Low\"] = ROCP(inputs, timeperiod=1, price='low')\n",
    "    df_h.loc[t][\"ROCP_Volume\"] = ROCP(inputs, timeperiod=1, price='volume')\n",
    "    \n",
    "    df_h.loc[t][\"DIF\"], df_h.loc[t][\"DEA\"], df_h.loc[t][\"MACD\"] = MACD(inputs, fastperiod=12, slowperiod=26, signalperiod=9)\n",
    "    df_h.loc[t][\"DIFROCP\"] = ROCP({'close': df_h.loc[t][\"DIF\"]}, timeperiod=1, price='close')\n",
    "    df_h.loc[t][\"DEAROCP\"] = ROCP({'close': df_h.loc[t][\"DEA\"]}, timeperiod=1, price='close')\n",
    "    df_h.loc[t][\"MACDROCP\"] = ROCP({'close': df_h.loc[t][\"MACD\"]}, timeperiod=1, price='close')\n",
    "    \n",
    "    df_h.loc[t][\"RSI6\"] = RSI(inputs, timeperiod=6, price='close')    \n",
    "    df_h.loc[t][\"RSI16\"] = RSI(inputs, timeperiod=16, price='close')    \n",
    "    df_h.loc[t][\"RSI24\"] = RSI(inputs, timeperiod=24, price='close')    \n",
    "    df_h.loc[t][\"RSI6ROCP\"] = ROCP({'close': df_h.loc[t][\"RSI6\"]}, timeperiod=1, price='close')\n",
    "    df_h.loc[t][\"RSI16ROCP\"] = ROCP({'close': df_h.loc[t][\"RSI16\"]}, timeperiod=1, price='close')\n",
    "    df_h.loc[t][\"RSI24ROCP\"] = ROCP({'close': df_h.loc[t][\"RSI24\"]}, timeperiod=1, price='close')\n",
    "    df_h.loc[t][\"BBAND_Up\"], df_h.loc[t][\"BBAND_Mid\"], df_h.loc[t][\"BBAND_Low\"] = BBANDS(inputs, timeperiod=5, nbdevup=2, nbdevdn=2, matype=0, price='close')\n",
    "    \n",
    "    df_h.loc[t][\"ROCP_Price_Volume\"] = df_h.loc[t][\"ROCP_Volume\"] * df_h.loc[t][\"ROCP_Close\"]\n",
    "    \n",
    "    df_h.loc[t][\"5MA_Volume\"] = SMA(inputs, timeperiod=5, price='volume')\n",
    "    df_h.loc[t][\"5MA_Volume_Returns\"] = df_h.loc[t][\"5MA_Close\"].pct_change()  # Isn't this just this ROC?\n",
    "    df_h.loc[t][\"10MA_Volume\"] = SMA(inputs, timeperiod=10, price='volume')\n",
    "    df_h.loc[t][\"10MA_Volume_Returns\"] = df_h.loc[t][\"10MA_Volume\"].pct_change()  # Isn't this just this ROC?\n",
    "    df_h.loc[t][\"20MA_Volume\"] = SMA(inputs, timeperiod=20, price='volume')\n",
    "    df_h.loc[t][\"20MA_Volume_Returns\"] = df_h.loc[t][\"20MA_Volume\"].pct_change()  # Isn't this just this ROC?\n",
    "    df_h.loc[t][\"30MA_Volume\"] = SMA(inputs, timeperiod=30, price='volume')\n",
    "    df_h.loc[t][\"30MA_Volume_Returns\"] = df_h.loc[t][\"30MA_Volume\"].pct_change()  # Isn't this just this ROC? "
   ]
  },
  {
   "cell_type": "code",
   "execution_count": 7,
   "metadata": {},
   "outputs": [],
   "source": [
    "def merge_multi(self, df, on):\n",
    "        return self.reset_index().join(df,on=on).set_index(self.index.names)\n",
    "    \n",
    "pd.DataFrame.merge_multi = merge_multi\n",
    "df = df.merge_multi(df_h, on=['Ticker', 'Date'])"
   ]
  },
  {
   "cell_type": "code",
   "execution_count": null,
   "metadata": {},
   "outputs": [],
   "source": [
    "df.to_csv('processed_data')"
   ]
  }
 ],
 "metadata": {
  "kernelspec": {
   "display_name": "Python 3",
   "language": "python",
   "name": "python3"
  },
  "language_info": {
   "codemirror_mode": {
    "name": "ipython",
    "version": 3
   },
   "file_extension": ".py",
   "mimetype": "text/x-python",
   "name": "python",
   "nbconvert_exporter": "python",
   "pygments_lexer": "ipython3",
   "version": "3.5.6"
  }
 },
 "nbformat": 4,
 "nbformat_minor": 2
}

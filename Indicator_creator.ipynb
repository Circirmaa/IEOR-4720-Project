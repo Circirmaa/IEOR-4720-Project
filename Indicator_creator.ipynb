{
 "cells": [
  {
   "cell_type": "code",
   "execution_count": 1,
   "metadata": {
    "collapsed": true
   },
   "outputs": [],
   "source": [
    "import pandas as pd\n",
    "import numpy as np\n",
    "from talib import abstract"
   ]
  },
  {
   "cell_type": "markdown",
   "metadata": {},
   "source": [
    "# 1. Get the chosen tickers"
   ]
  },
  {
   "cell_type": "code",
   "execution_count": 2,
   "metadata": {},
   "outputs": [
    {
     "ename": "FileNotFoundError",
     "evalue": "File b'SP100.csv' does not exist",
     "output_type": "error",
     "traceback": [
      "\u001b[1;31m---------------------------------------------------------------------------\u001b[0m",
      "\u001b[1;31mFileNotFoundError\u001b[0m                         Traceback (most recent call last)",
      "\u001b[1;32m<ipython-input-2-390cf0e17274>\u001b[0m in \u001b[0;36m<module>\u001b[1;34m()\u001b[0m\n\u001b[1;32m----> 1\u001b[1;33m \u001b[0mtickers\u001b[0m \u001b[1;33m=\u001b[0m \u001b[0mpd\u001b[0m\u001b[1;33m.\u001b[0m\u001b[0mread_csv\u001b[0m\u001b[1;33m(\u001b[0m\u001b[1;34m'SP100.csv'\u001b[0m\u001b[1;33m,\u001b[0m\u001b[0mheader\u001b[0m\u001b[1;33m=\u001b[0m\u001b[1;32mNone\u001b[0m\u001b[1;33m)\u001b[0m\u001b[1;33m\u001b[0m\u001b[0m\n\u001b[0m\u001b[0;32m      2\u001b[0m \u001b[0mtickers\u001b[0m \u001b[1;33m=\u001b[0m \u001b[0mlist\u001b[0m\u001b[1;33m(\u001b[0m\u001b[0mtickers\u001b[0m\u001b[1;33m[\u001b[0m\u001b[1;36m1\u001b[0m\u001b[1;33m]\u001b[0m\u001b[1;33m)\u001b[0m\u001b[1;33m\u001b[0m\u001b[0m\n\u001b[0;32m      3\u001b[0m \u001b[0mtickers\u001b[0m\u001b[1;33m[\u001b[0m\u001b[1;33m:\u001b[0m\u001b[1;36m10\u001b[0m\u001b[1;33m]\u001b[0m\u001b[1;33m\u001b[0m\u001b[0m\n",
      "\u001b[1;32m~\\Anaconda3\\lib\\site-packages\\pandas\\io\\parsers.py\u001b[0m in \u001b[0;36mparser_f\u001b[1;34m(filepath_or_buffer, sep, delimiter, header, names, index_col, usecols, squeeze, prefix, mangle_dupe_cols, dtype, engine, converters, true_values, false_values, skipinitialspace, skiprows, nrows, na_values, keep_default_na, na_filter, verbose, skip_blank_lines, parse_dates, infer_datetime_format, keep_date_col, date_parser, dayfirst, iterator, chunksize, compression, thousands, decimal, lineterminator, quotechar, quoting, escapechar, comment, encoding, dialect, tupleize_cols, error_bad_lines, warn_bad_lines, skipfooter, doublequote, delim_whitespace, low_memory, memory_map, float_precision)\u001b[0m\n\u001b[0;32m    676\u001b[0m                     skip_blank_lines=skip_blank_lines)\n\u001b[0;32m    677\u001b[0m \u001b[1;33m\u001b[0m\u001b[0m\n\u001b[1;32m--> 678\u001b[1;33m         \u001b[1;32mreturn\u001b[0m \u001b[0m_read\u001b[0m\u001b[1;33m(\u001b[0m\u001b[0mfilepath_or_buffer\u001b[0m\u001b[1;33m,\u001b[0m \u001b[0mkwds\u001b[0m\u001b[1;33m)\u001b[0m\u001b[1;33m\u001b[0m\u001b[0m\n\u001b[0m\u001b[0;32m    679\u001b[0m \u001b[1;33m\u001b[0m\u001b[0m\n\u001b[0;32m    680\u001b[0m     \u001b[0mparser_f\u001b[0m\u001b[1;33m.\u001b[0m\u001b[0m__name__\u001b[0m \u001b[1;33m=\u001b[0m \u001b[0mname\u001b[0m\u001b[1;33m\u001b[0m\u001b[0m\n",
      "\u001b[1;32m~\\Anaconda3\\lib\\site-packages\\pandas\\io\\parsers.py\u001b[0m in \u001b[0;36m_read\u001b[1;34m(filepath_or_buffer, kwds)\u001b[0m\n\u001b[0;32m    438\u001b[0m \u001b[1;33m\u001b[0m\u001b[0m\n\u001b[0;32m    439\u001b[0m     \u001b[1;31m# Create the parser.\u001b[0m\u001b[1;33m\u001b[0m\u001b[1;33m\u001b[0m\u001b[0m\n\u001b[1;32m--> 440\u001b[1;33m     \u001b[0mparser\u001b[0m \u001b[1;33m=\u001b[0m \u001b[0mTextFileReader\u001b[0m\u001b[1;33m(\u001b[0m\u001b[0mfilepath_or_buffer\u001b[0m\u001b[1;33m,\u001b[0m \u001b[1;33m**\u001b[0m\u001b[0mkwds\u001b[0m\u001b[1;33m)\u001b[0m\u001b[1;33m\u001b[0m\u001b[0m\n\u001b[0m\u001b[0;32m    441\u001b[0m \u001b[1;33m\u001b[0m\u001b[0m\n\u001b[0;32m    442\u001b[0m     \u001b[1;32mif\u001b[0m \u001b[0mchunksize\u001b[0m \u001b[1;32mor\u001b[0m \u001b[0miterator\u001b[0m\u001b[1;33m:\u001b[0m\u001b[1;33m\u001b[0m\u001b[0m\n",
      "\u001b[1;32m~\\Anaconda3\\lib\\site-packages\\pandas\\io\\parsers.py\u001b[0m in \u001b[0;36m__init__\u001b[1;34m(self, f, engine, **kwds)\u001b[0m\n\u001b[0;32m    785\u001b[0m             \u001b[0mself\u001b[0m\u001b[1;33m.\u001b[0m\u001b[0moptions\u001b[0m\u001b[1;33m[\u001b[0m\u001b[1;34m'has_index_names'\u001b[0m\u001b[1;33m]\u001b[0m \u001b[1;33m=\u001b[0m \u001b[0mkwds\u001b[0m\u001b[1;33m[\u001b[0m\u001b[1;34m'has_index_names'\u001b[0m\u001b[1;33m]\u001b[0m\u001b[1;33m\u001b[0m\u001b[0m\n\u001b[0;32m    786\u001b[0m \u001b[1;33m\u001b[0m\u001b[0m\n\u001b[1;32m--> 787\u001b[1;33m         \u001b[0mself\u001b[0m\u001b[1;33m.\u001b[0m\u001b[0m_make_engine\u001b[0m\u001b[1;33m(\u001b[0m\u001b[0mself\u001b[0m\u001b[1;33m.\u001b[0m\u001b[0mengine\u001b[0m\u001b[1;33m)\u001b[0m\u001b[1;33m\u001b[0m\u001b[0m\n\u001b[0m\u001b[0;32m    788\u001b[0m \u001b[1;33m\u001b[0m\u001b[0m\n\u001b[0;32m    789\u001b[0m     \u001b[1;32mdef\u001b[0m \u001b[0mclose\u001b[0m\u001b[1;33m(\u001b[0m\u001b[0mself\u001b[0m\u001b[1;33m)\u001b[0m\u001b[1;33m:\u001b[0m\u001b[1;33m\u001b[0m\u001b[0m\n",
      "\u001b[1;32m~\\Anaconda3\\lib\\site-packages\\pandas\\io\\parsers.py\u001b[0m in \u001b[0;36m_make_engine\u001b[1;34m(self, engine)\u001b[0m\n\u001b[0;32m   1012\u001b[0m     \u001b[1;32mdef\u001b[0m \u001b[0m_make_engine\u001b[0m\u001b[1;33m(\u001b[0m\u001b[0mself\u001b[0m\u001b[1;33m,\u001b[0m \u001b[0mengine\u001b[0m\u001b[1;33m=\u001b[0m\u001b[1;34m'c'\u001b[0m\u001b[1;33m)\u001b[0m\u001b[1;33m:\u001b[0m\u001b[1;33m\u001b[0m\u001b[0m\n\u001b[0;32m   1013\u001b[0m         \u001b[1;32mif\u001b[0m \u001b[0mengine\u001b[0m \u001b[1;33m==\u001b[0m \u001b[1;34m'c'\u001b[0m\u001b[1;33m:\u001b[0m\u001b[1;33m\u001b[0m\u001b[0m\n\u001b[1;32m-> 1014\u001b[1;33m             \u001b[0mself\u001b[0m\u001b[1;33m.\u001b[0m\u001b[0m_engine\u001b[0m \u001b[1;33m=\u001b[0m \u001b[0mCParserWrapper\u001b[0m\u001b[1;33m(\u001b[0m\u001b[0mself\u001b[0m\u001b[1;33m.\u001b[0m\u001b[0mf\u001b[0m\u001b[1;33m,\u001b[0m \u001b[1;33m**\u001b[0m\u001b[0mself\u001b[0m\u001b[1;33m.\u001b[0m\u001b[0moptions\u001b[0m\u001b[1;33m)\u001b[0m\u001b[1;33m\u001b[0m\u001b[0m\n\u001b[0m\u001b[0;32m   1015\u001b[0m         \u001b[1;32melse\u001b[0m\u001b[1;33m:\u001b[0m\u001b[1;33m\u001b[0m\u001b[0m\n\u001b[0;32m   1016\u001b[0m             \u001b[1;32mif\u001b[0m \u001b[0mengine\u001b[0m \u001b[1;33m==\u001b[0m \u001b[1;34m'python'\u001b[0m\u001b[1;33m:\u001b[0m\u001b[1;33m\u001b[0m\u001b[0m\n",
      "\u001b[1;32m~\\Anaconda3\\lib\\site-packages\\pandas\\io\\parsers.py\u001b[0m in \u001b[0;36m__init__\u001b[1;34m(self, src, **kwds)\u001b[0m\n\u001b[0;32m   1706\u001b[0m         \u001b[0mkwds\u001b[0m\u001b[1;33m[\u001b[0m\u001b[1;34m'usecols'\u001b[0m\u001b[1;33m]\u001b[0m \u001b[1;33m=\u001b[0m \u001b[0mself\u001b[0m\u001b[1;33m.\u001b[0m\u001b[0musecols\u001b[0m\u001b[1;33m\u001b[0m\u001b[0m\n\u001b[0;32m   1707\u001b[0m \u001b[1;33m\u001b[0m\u001b[0m\n\u001b[1;32m-> 1708\u001b[1;33m         \u001b[0mself\u001b[0m\u001b[1;33m.\u001b[0m\u001b[0m_reader\u001b[0m \u001b[1;33m=\u001b[0m \u001b[0mparsers\u001b[0m\u001b[1;33m.\u001b[0m\u001b[0mTextReader\u001b[0m\u001b[1;33m(\u001b[0m\u001b[0msrc\u001b[0m\u001b[1;33m,\u001b[0m \u001b[1;33m**\u001b[0m\u001b[0mkwds\u001b[0m\u001b[1;33m)\u001b[0m\u001b[1;33m\u001b[0m\u001b[0m\n\u001b[0m\u001b[0;32m   1709\u001b[0m \u001b[1;33m\u001b[0m\u001b[0m\n\u001b[0;32m   1710\u001b[0m         \u001b[0mpassed_names\u001b[0m \u001b[1;33m=\u001b[0m \u001b[0mself\u001b[0m\u001b[1;33m.\u001b[0m\u001b[0mnames\u001b[0m \u001b[1;32mis\u001b[0m \u001b[1;32mNone\u001b[0m\u001b[1;33m\u001b[0m\u001b[0m\n",
      "\u001b[1;32mpandas\\_libs\\parsers.pyx\u001b[0m in \u001b[0;36mpandas._libs.parsers.TextReader.__cinit__\u001b[1;34m()\u001b[0m\n",
      "\u001b[1;32mpandas\\_libs\\parsers.pyx\u001b[0m in \u001b[0;36mpandas._libs.parsers.TextReader._setup_parser_source\u001b[1;34m()\u001b[0m\n",
      "\u001b[1;31mFileNotFoundError\u001b[0m: File b'SP100.csv' does not exist"
     ]
    }
   ],
   "source": [
    "tickers = pd.read_csv('SP100.csv',header=None)\n",
    "tickers = list(tickers[1])\n",
    "tickers[:10]"
   ]
  },
  {
   "cell_type": "code",
   "execution_count": null,
   "metadata": {},
   "outputs": [],
   "source": [
    "l = list()\n",
    "k = list()\n",
    "for i in tickers:\n",
    "    try:\n",
    "        tmp = pd.read_csv('./Stocks/' + i + '.us.txt')\n",
    "        tmp.set_index(['Date'], inplace=True)\n",
    "        original_length = len(tmp)\n",
    "        tmp = tmp.dropna()\n",
    "        drop_na_length = len(tmp)\n",
    "        tmp = tmp[tmp['Volume'] != 0]\n",
    "        no_vol_length = len(tmp)\n",
    "        del tmp['OpenInt']\n",
    "        tmp.index = pd.to_datetime(tmp.index)\n",
    "        print(str(i) + ' was reduced from ' + str(original_length) + ' to ' + str(no_vol_length) + '.')\n",
    "        \n",
    "        k.append(i)\n",
    "        l.append(tmp)\n",
    "    except Exception:\n",
    "        print(str(i) + ' file not found.')      "
   ]
  },
  {
   "cell_type": "code",
   "execution_count": null,
   "metadata": {},
   "outputs": [],
   "source": [
    "df = pd.concat(l , keys = k, axis = 0)\n",
    "df.head(20)\n",
    "\n",
    "df.index.rename(['Ticker', 'Date'], inplace=True) \n",
    "df['Volume'] = df['Volume'].astype(float)\n",
    "df.head()"
   ]
  },
  {
   "cell_type": "code",
   "execution_count": null,
   "metadata": {
    "collapsed": true
   },
   "outputs": [],
   "source": [
    "tickers = df.index.levels[0].unique()"
   ]
  },
  {
   "cell_type": "code",
   "execution_count": null,
   "metadata": {
    "collapsed": true
   },
   "outputs": [],
   "source": [
    "# Simple Moving Average\n",
    "SMA = abstract.SMA\n",
    "ROCP = abstract.ROCP\n",
    "MACD = abstract.MACD\n",
    "RSI = abstract.RSI\n",
    "BBANDS = abstract.BBANDS"
   ]
  },
  {
   "cell_type": "code",
   "execution_count": null,
   "metadata": {
    "collapsed": true
   },
   "outputs": [],
   "source": [
    "cols = [\"5MA_Close\", \"5MA_Close_Returns\", \"10MA_Close\", \"10MA_Close_Returns\", \"20MA_Close\", \"20MA_Close_Returns\", \"30MA_Close\", \"30MA_Close_Returns\", \"ROCP_Close\", \"ROCP_Open\", \"ROCP_High\", \"ROCP_Low\",  \"ROCP_Volume\", \"DIF\", \"DEA\", \"MACD\", \"DIFROCP\", \"DEAROCP\", \"MACDROCP\", \"RSI6\", \"RSI16\", \"RSI24\", \"RSI6ROCP\", \"RSI16ROCP\", \"RSI24ROCP\", \"BBAND_Up\", \"BBAND_Mid\", \"BBAND_Low\", \"ROCP_Price_Volume\", \"5MA_Volume\", \"5MA_Volume_Returns\", \"10MA_Volume\", \"10MA_Volume_Returns\", \"20MA_Volume\", \"20MA_Volume_Returns\", \"30MA_Volume\",\"30MA_Volume_Returns\",]\n",
    "df_h = pd.DataFrame(np.nan, index=df.index, columns=cols)"
   ]
  },
  {
   "cell_type": "code",
   "execution_count": null,
   "metadata": {
    "collapsed": true
   },
   "outputs": [],
   "source": [
    "for t in tickers:\n",
    "        \n",
    "    df_t = df.loc[t]\n",
    "    df_t = pd.concat([df_t], keys=[t], names=['Ticker'])\n",
    "\n",
    "    inputs = {\n",
    "    'open': df_t['Open'],\n",
    "    'high': df_t['High'],\n",
    "    'low': df_t['Low'],\n",
    "    'close': df_t['Close'],\n",
    "    'volume': df_t['Volume']\n",
    "    }\n",
    "    \n",
    "    df_h.loc[t][\"5MA_Close\"] = SMA(inputs, timeperiod=5, price='close')\n",
    "    df_h.loc[t][\"5MA_Close_Returns\"] = df_h.loc[t][\"5MA_Close\"].pct_change()  # Isn't this just this ROC?\n",
    "    df_h.loc[t][\"10MA_Close\"] = SMA(inputs, timeperiod=10, price='close')\n",
    "    df_h.loc[t][\"10MA_Close_Returns\"] = df_h.loc[t][\"10MA_Close\"].pct_change()  # Isn't this just this ROC?\n",
    "    df_h.loc[t][\"20MA_Close\"] = SMA(inputs, timeperiod=20, price='close')\n",
    "    df_h.loc[t][\"20MA_Close_Returns\"] = df_h.loc[t][\"20MA_Close\"].pct_change()  # Isn't this just this ROC?\n",
    "    df_h.loc[t][\"30MA_Close\"] = SMA(inputs, timeperiod=30, price='close')\n",
    "    df_h.loc[t][\"30MA_Close_Returns\"] = df_h.loc[t][\"30MA_Close\"].pct_change()  # Isn't this just this ROC? \n",
    "\n",
    "    df_h.loc[t][\"ROCP_Close\"] = ROCP(inputs, timeperiod=1, price='close')\n",
    "    df_h.loc[t][\"ROCP_Open\"] = ROCP(inputs, timeperiod=1, price='open')\n",
    "    df_h.loc[t][\"ROCP_High\"] = ROCP(inputs, timeperiod=1, price='high')    \n",
    "    df_h.loc[t][\"ROCP_Low\"] = ROCP(inputs, timeperiod=1, price='low')\n",
    "    df_h.loc[t][\"ROCP_Volume\"] = ROCP(inputs, timeperiod=1, price='volume')\n",
    "    \n",
    "    df_h.loc[t][\"DIF\"], df_h.loc[t][\"DEA\"], df_h.loc[t][\"MACD\"] = MACD(inputs, fastperiod=12, slowperiod=26, signalperiod=9)\n",
    "    df_h.loc[t][\"DIFROCP\"] = ROCP({'close': df_h.loc[t][\"DIF\"]}, timeperiod=1, price='close')\n",
    "    df_h.loc[t][\"DEAROCP\"] = ROCP({'close': df_h.loc[t][\"DEA\"]}, timeperiod=1, price='close')\n",
    "    df_h.loc[t][\"MACDROCP\"] = ROCP({'close': df_h.loc[t][\"MACD\"]}, timeperiod=1, price='close')\n",
    "    \n",
    "    df_h.loc[t][\"RSI6\"] = RSI(inputs, timeperiod=6, price='close')    \n",
    "    df_h.loc[t][\"RSI16\"] = RSI(inputs, timeperiod=16, price='close')    \n",
    "    df_h.loc[t][\"RSI24\"] = RSI(inputs, timeperiod=24, price='close')    \n",
    "    df_h.loc[t][\"RSI6ROCP\"] = ROCP({'close': df_h.loc[t][\"RSI6\"]}, timeperiod=1, price='close')\n",
    "    df_h.loc[t][\"RSI16ROCP\"] = ROCP({'close': df_h.loc[t][\"RSI16\"]}, timeperiod=1, price='close')\n",
    "    df_h.loc[t][\"RSI24ROCP\"] = ROCP({'close': df_h.loc[t][\"RSI24\"]}, timeperiod=1, price='close')\n",
    "    df_h.loc[t][\"BBAND_Up\"], df_h.loc[t][\"BBAND_Mid\"], df_h.loc[t][\"BBAND_Low\"] = BBANDS(inputs, timeperiod=5, nbdevup=2, nbdevdn=2, matype=0, price='close')\n",
    "    \n",
    "    df_h.loc[t][\"ROCP_Price_Volume\"] = df_h.loc[t][\"ROCP_Volume\"] * df_h.loc[t][\"ROCP_Close\"]\n",
    "    \n",
    "    df_h.loc[t][\"5MA_Volume\"] = SMA(inputs, timeperiod=5, price='volume')\n",
    "    df_h.loc[t][\"5MA_Volume_Returns\"] = df_h.loc[t][\"5MA_Close\"].pct_change()  # Isn't this just this ROC?\n",
    "    df_h.loc[t][\"10MA_Volume\"] = SMA(inputs, timeperiod=10, price='volume')\n",
    "    df_h.loc[t][\"10MA_Volume_Returns\"] = df_h.loc[t][\"10MA_Volume\"].pct_change()  # Isn't this just this ROC?\n",
    "    df_h.loc[t][\"20MA_Volume\"] = SMA(inputs, timeperiod=20, price='volume')\n",
    "    df_h.loc[t][\"20MA_Volume_Returns\"] = df_h.loc[t][\"20MA_Volume\"].pct_change()  # Isn't this just this ROC?\n",
    "    df_h.loc[t][\"30MA_Volume\"] = SMA(inputs, timeperiod=30, price='volume')\n",
    "    df_h.loc[t][\"30MA_Volume_Returns\"] = df_h.loc[t][\"30MA_Volume\"].pct_change()  # Isn't this just this ROC? "
   ]
  },
  {
   "cell_type": "code",
   "execution_count": null,
   "metadata": {
    "collapsed": true
   },
   "outputs": [],
   "source": [
    "def merge_multi(self, df, on):\n",
    "        return self.reset_index().join(df,on=on).set_index(self.index.names)\n",
    "    \n",
    "pd.DataFrame.merge_multi = merge_multi\n",
    "df = df.merge_multi(df_h, on=['Ticker', 'Date'])"
   ]
  },
  {
   "cell_type": "code",
   "execution_count": null,
   "metadata": {},
   "outputs": [],
   "source": [
    "df.tail()"
   ]
  },
  {
   "cell_type": "code",
   "execution_count": null,
   "metadata": {
    "collapsed": true
   },
   "outputs": [],
   "source": [
    "#df.to_csv('processed_data1.csv')"
   ]
  },
  {
   "cell_type": "code",
   "execution_count": null,
   "metadata": {
    "collapsed": true
   },
   "outputs": [],
   "source": []
  }
 ],
 "metadata": {
  "kernelspec": {
   "display_name": "Python 3",
   "language": "python",
   "name": "python3"
  },
  "language_info": {
   "codemirror_mode": {
    "name": "ipython",
    "version": 3
   },
   "file_extension": ".py",
   "mimetype": "text/x-python",
   "name": "python",
   "nbconvert_exporter": "python",
   "pygments_lexer": "ipython3",
   "version": "3.6.3"
  }
 },
 "nbformat": 4,
 "nbformat_minor": 2
}

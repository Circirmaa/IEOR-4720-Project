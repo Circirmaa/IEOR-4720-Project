{
 "cells": [
  {
   "cell_type": "code",
   "execution_count": 1,
   "metadata": {},
   "outputs": [],
   "source": [
    "import numpy as np\n",
    "import pandas as pd\n",
    "import sklearn\n",
    "import sklearn.preprocessing\n",
    "import tensorflow as tf\n",
    "import timeit"
   ]
  },
  {
   "cell_type": "code",
   "execution_count": 2,
   "metadata": {},
   "outputs": [],
   "source": [
    "df = pd.read_csv(\"processed_data_SP100.csv\", index_col = 1)\n",
    "df.insert(0, 'Change_Indicator', np.where(df['ROCP_Close'] >= 0, 1, 0))"
   ]
  },
  {
   "cell_type": "code",
   "execution_count": 3,
   "metadata": {},
   "outputs": [
    {
     "name": "stdout",
     "output_type": "stream",
     "text": [
      "['goog' 'jnj' 'pep' 'abbv' 'ibm' 'lmt' 'slb' 'gs' 'cvs' 'eog' 'chtr' 'tjx'\n",
      " 'agn' 'pnc' 'atvi' 'mdlz' 'intu' 'rtn' 'cl' 'psx' 'spg' 'bsx' 'vlo' 'nsc'\n",
      " 'hca' 'tgt' 'zts' 'so' 'stz' 'wm' 'bbt' 'apd' 'rost' 'aep' 'adsk' 'stt'\n",
      " 'cxo' 'pxd' 'yum' 'adm' 'amd' 'rcl' 'dfs' 'zbh' 'gis' 'cmi' 'ph' 'bf.b'\n",
      " 'eqr' 'xel' 'k' 'ed' 'syf' 'kr' 'wy' 'rok' 'ntap' 'key' 'hrl' 'ctas'\n",
      " 'mro' 'dte' 'azo' 'fitb' 'ca' 'fe' 'mkc' 'fast' 'ess' 'dhi' 'ctxs' 'tpr'\n",
      " 'fti' 'cms' 'stx' 'cf' 'mos' 'expd' 'cinf' 'alb' 'mas' 'cboe' 'm' 'var'\n",
      " 'tmk' 'irm' 'qrvo' 'uaa' 'wu' 'flir' 'slg' 'xray' 'alk' 'xrx' 'evhc' 'fl'\n",
      " 'hrb' 'srcl']\n",
      "98\n"
     ]
    }
   ],
   "source": [
    "tickers_all = df['Ticker'].unique()\n",
    "print(tickers_all)\n",
    "print(len(tickers_all))"
   ]
  },
  {
   "cell_type": "code",
   "execution_count": 4,
   "metadata": {},
   "outputs": [],
   "source": [
    "# pick several stocks for test\n",
    "tickers = list(tickers_all[70:])\n",
    "df = df[df['Ticker'].isin(tickers)]"
   ]
  },
  {
   "cell_type": "code",
   "execution_count": 5,
   "metadata": {},
   "outputs": [],
   "source": [
    "tickers = df['Ticker'].unique()"
   ]
  },
  {
   "cell_type": "code",
   "execution_count": 6,
   "metadata": {},
   "outputs": [],
   "source": [
    "valid_set_size_percentage = 20\n",
    "test_set_size_percentage = 10\n",
    "\n",
    "seq_len = 20 \n",
    "window_len = 5\n",
    "\n",
    "n_steps = seq_len - 1\n",
    "n_inputs = df.shape[1] - 1\n",
    "n_outputs = 2\n",
    "\n",
    "n_epochs = 250\n",
    "patience = 10\n",
    "min_delta = 0.01"
   ]
  },
  {
   "cell_type": "code",
   "execution_count": 7,
   "metadata": {},
   "outputs": [],
   "source": [
    "def normalize_data(df):\n",
    "    min_max_scaler = sklearn.preprocessing.MinMaxScaler()\n",
    "    for i in df.columns:\n",
    "        df[i] = min_max_scaler.fit_transform(df[i].values.reshape(-1,1))\n",
    "    return df"
   ]
  },
  {
   "cell_type": "code",
   "execution_count": 8,
   "metadata": {},
   "outputs": [],
   "source": [
    "def load_data(stock, seq_len, window_len):\n",
    "    data_raw = stock.values; # convert to numpy array\n",
    "    data = []\n",
    "    \n",
    "    # create all possible sequences of length seq_len\n",
    "    for index in range((len(data_raw) - seq_len)//window_len): \n",
    "        data.append(data_raw[index * window_len: index * window_len + seq_len])\n",
    "    \n",
    "    data = np.array(data);\n",
    "    valid_set_size = int(np.round(valid_set_size_percentage/100 * data.shape[0]));  \n",
    "    test_set_size = int(np.round(test_set_size_percentage/100 * data.shape[0]));\n",
    "    train_set_size = data.shape[0] - (valid_set_size + test_set_size);\n",
    "    \n",
    "    x_train = data[:train_set_size, :-1, :]\n",
    "    y_train = data[:train_set_size, -1, 0:1]\n",
    "    \n",
    "    \n",
    "    x_valid = data[train_set_size:train_set_size + valid_set_size, :-1, :]\n",
    "    y_valid = data[train_set_size:train_set_size + valid_set_size, -1, 0:1]\n",
    "    \n",
    "    x_test = data[train_set_size+valid_set_size:, :-1, :]\n",
    "    y_test = data[train_set_size+valid_set_size:, -1, 0:1]\n",
    "    point = train_set_size + valid_set_size + 1\n",
    "    \n",
    "    return [x_train, y_train, x_valid, y_valid, x_test, y_test, point]"
   ]
  },
  {
   "cell_type": "code",
   "execution_count": 9,
   "metadata": {},
   "outputs": [],
   "source": [
    "def one_hot_encode(labels, K = 2):\n",
    "    N = len(labels)\n",
    "    Z = np.zeros((N, K))\n",
    "    int_list = [int(p) for p in labels.flatten()]\n",
    "    Z[np.arange(N), int_list] = 1\n",
    "    return Z"
   ]
  },
  {
   "cell_type": "code",
   "execution_count": 10,
   "metadata": {},
   "outputs": [],
   "source": [
    "def get_next_batch(batch_size):\n",
    "    global index_in_epoch, x_train, perm_array   \n",
    "    start = index_in_epoch\n",
    "    index_in_epoch += batch_size\n",
    "    \n",
    "    if index_in_epoch > x_train.shape[0]:\n",
    "        np.random.shuffle(perm_array) # shuffle permutation array\n",
    "        start = 0 # start next epoch\n",
    "\n",
    "        index_in_epoch = batch_size\n",
    "        \n",
    "    end = index_in_epoch\n",
    "    return x_train[perm_array[start:end]], y_train[perm_array[start:end]]"
   ]
  },
  {
   "cell_type": "code",
   "execution_count": 11,
   "metadata": {},
   "outputs": [],
   "source": [
    "models = {\n",
    "    'replication_attention_lstm': {\n",
    "        'dropout': .2,\n",
    "        'batch_size': 512,\n",
    "        'neurons': 200,\n",
    "        'outputs': 2,\n",
    "        'batch_normalization': True,\n",
    "        'activation': tf.nn.tanh, #use tanh as the paper did\n",
    "        'optimizer': tf.train.AdamOptimizer(learning_rate = .001),\n",
    "        'loss': tf.losses.softmax_cross_entropy,  # use cross_entropy for classification\n",
    "        'layers': [{ 'layer': 'BasicLSTM', 'attention': True, 'attention_length': 40},\n",
    "                    { 'layer': 'BasicLSTM', 'attention': False}]\n",
    "    },\n",
    "    'replication_lstm': {\n",
    "        'dropout': .2,\n",
    "        'batch_size': 512,\n",
    "        'neurons': 200,\n",
    "        'outputs': 2,\n",
    "        'batch_normalization': True,\n",
    "        'activation': tf.nn.tanh,\n",
    "        'optimizer': tf.train.AdamOptimizer(learning_rate = .001),\n",
    "        'loss': tf.losses.softmax_cross_entropy,\n",
    "        'layers': [{ 'layer': 'BasicLSTM', 'attention': False},\n",
    "                    { 'layer': 'BasicLSTM', 'attention': False}]\n",
    "    }\n",
    "}"
   ]
  },
  {
   "cell_type": "code",
   "execution_count": 12,
   "metadata": {},
   "outputs": [],
   "source": [
    "model_results = pd.DataFrame(columns=['name', 'ticker', 'accuracy', 'total_change', 'predicted_investment', 'early_stop', 'time_in_seconds'])\n",
    "model_results.set_index(['name', 'ticker'], inplace=True)"
   ]
  },
  {
   "cell_type": "code",
   "execution_count": 13,
   "metadata": {},
   "outputs": [
    {
     "name": "stdout",
     "output_type": "stream",
     "text": [
      "Starting ctxs\n"
     ]
    },
    {
     "name": "stderr",
     "output_type": "stream",
     "text": [
      "C:\\mayuan\\Anaconda3\\lib\\site-packages\\sklearn\\utils\\validation.py:595: DataConversionWarning: Data with input dtype int64 was converted to float64 by MinMaxScaler.\n",
      "  warnings.warn(msg, DataConversionWarning)\n"
     ]
    },
    {
     "name": "stdout",
     "output_type": "stream",
     "text": [
      "Early stopping at 6.69281045751634. Iteration 10\n",
      "Finished replication_attention_lstm - ctxs in 69.89010036903812 seconds.\n",
      "Starting tpr\n"
     ]
    },
    {
     "name": "stderr",
     "output_type": "stream",
     "text": [
      "C:\\mayuan\\Anaconda3\\lib\\site-packages\\sklearn\\utils\\validation.py:595: DataConversionWarning: Data with input dtype int64 was converted to float64 by MinMaxScaler.\n",
      "  warnings.warn(msg, DataConversionWarning)\n"
     ]
    },
    {
     "name": "stdout",
     "output_type": "stream",
     "text": [
      "Early stopping at 11.636363636363637. Iteration 10\n",
      "Finished replication_attention_lstm - tpr in 44.14559853636308 seconds.\n",
      "Starting fti\n"
     ]
    },
    {
     "name": "stderr",
     "output_type": "stream",
     "text": [
      "C:\\mayuan\\Anaconda3\\lib\\site-packages\\sklearn\\utils\\validation.py:595: DataConversionWarning: Data with input dtype int64 was converted to float64 by MinMaxScaler.\n",
      "  warnings.warn(msg, DataConversionWarning)\n"
     ]
    },
    {
     "name": "stdout",
     "output_type": "stream",
     "text": [
      "Early stopping at 11.636363636363637. Iteration 10\n",
      "Finished replication_attention_lstm - fti in 43.627159430496874 seconds.\n",
      "Starting cms\n"
     ]
    },
    {
     "name": "stderr",
     "output_type": "stream",
     "text": [
      "C:\\mayuan\\Anaconda3\\lib\\site-packages\\sklearn\\utils\\validation.py:595: DataConversionWarning: Data with input dtype int64 was converted to float64 by MinMaxScaler.\n",
      "  warnings.warn(msg, DataConversionWarning)\n"
     ]
    },
    {
     "name": "stdout",
     "output_type": "stream",
     "text": [
      "Early stopping at 4.448305821025196. Iteration 10\n",
      "Finished replication_attention_lstm - cms in 56.34738848785395 seconds.\n",
      "Starting stx\n"
     ]
    },
    {
     "name": "stderr",
     "output_type": "stream",
     "text": [
      "C:\\mayuan\\Anaconda3\\lib\\site-packages\\sklearn\\utils\\validation.py:595: DataConversionWarning: Data with input dtype int64 was converted to float64 by MinMaxScaler.\n",
      "  warnings.warn(msg, DataConversionWarning)\n"
     ]
    },
    {
     "name": "stdout",
     "output_type": "stream",
     "text": [
      "Early stopping at 12.8. Iteration 11\n",
      "Finished replication_attention_lstm - stx in 46.80829132564159 seconds.\n",
      "Starting cf\n"
     ]
    },
    {
     "name": "stderr",
     "output_type": "stream",
     "text": [
      "C:\\mayuan\\Anaconda3\\lib\\site-packages\\sklearn\\utils\\validation.py:595: DataConversionWarning: Data with input dtype int64 was converted to float64 by MinMaxScaler.\n",
      "  warnings.warn(msg, DataConversionWarning)\n"
     ]
    },
    {
     "name": "stdout",
     "output_type": "stream",
     "text": [
      "Early stopping at 12.075471698113208. Iteration 10\n",
      "Finished replication_attention_lstm - cf in 41.48477568433043 seconds.\n",
      "Starting mos\n"
     ]
    },
    {
     "name": "stderr",
     "output_type": "stream",
     "text": [
      "C:\\mayuan\\Anaconda3\\lib\\site-packages\\sklearn\\utils\\validation.py:595: DataConversionWarning: Data with input dtype int64 was converted to float64 by MinMaxScaler.\n",
      "  warnings.warn(msg, DataConversionWarning)\n"
     ]
    },
    {
     "name": "stdout",
     "output_type": "stream",
     "text": [
      "Early stopping at 11.636363636363637. Iteration 10\n",
      "Finished replication_attention_lstm - mos in 43.473590763067534 seconds.\n",
      "Starting expd\n"
     ]
    },
    {
     "name": "stderr",
     "output_type": "stream",
     "text": [
      "C:\\mayuan\\Anaconda3\\lib\\site-packages\\sklearn\\utils\\validation.py:595: DataConversionWarning: Data with input dtype int64 was converted to float64 by MinMaxScaler.\n",
      "  warnings.warn(msg, DataConversionWarning)\n"
     ]
    },
    {
     "name": "stdout",
     "output_type": "stream",
     "text": [
      "Early stopping at 5.3222453222453225. Iteration 10\n",
      "Finished replication_attention_lstm - expd in 53.936377191430495 seconds.\n",
      "Starting cinf\n"
     ]
    },
    {
     "name": "stderr",
     "output_type": "stream",
     "text": [
      "C:\\mayuan\\Anaconda3\\lib\\site-packages\\sklearn\\utils\\validation.py:595: DataConversionWarning: Data with input dtype int64 was converted to float64 by MinMaxScaler.\n",
      "  warnings.warn(msg, DataConversionWarning)\n"
     ]
    },
    {
     "name": "stdout",
     "output_type": "stream",
     "text": [
      "Early stopping at 5.294725956566701. Iteration 10\n",
      "Finished replication_attention_lstm - cinf in 54.09779936773708 seconds.\n",
      "Starting alb\n"
     ]
    },
    {
     "name": "stderr",
     "output_type": "stream",
     "text": [
      "C:\\mayuan\\Anaconda3\\lib\\site-packages\\sklearn\\utils\\validation.py:595: DataConversionWarning: Data with input dtype int64 was converted to float64 by MinMaxScaler.\n",
      "  warnings.warn(msg, DataConversionWarning)\n"
     ]
    },
    {
     "name": "stdout",
     "output_type": "stream",
     "text": [
      "Early stopping at 11.636363636363637. Iteration 10\n",
      "Finished replication_attention_lstm - alb in 43.629667092005775 seconds.\n",
      "Starting mas\n"
     ]
    },
    {
     "name": "stderr",
     "output_type": "stream",
     "text": [
      "C:\\mayuan\\Anaconda3\\lib\\site-packages\\sklearn\\utils\\validation.py:595: DataConversionWarning: Data with input dtype int64 was converted to float64 by MinMaxScaler.\n",
      "  warnings.warn(msg, DataConversionWarning)\n"
     ]
    },
    {
     "name": "stdout",
     "output_type": "stream",
     "text": [
      "Early stopping at 4.2419221209610605. Iteration 10\n",
      "Finished replication_attention_lstm - mas in 56.86433255414545 seconds.\n",
      "Starting cboe\n"
     ]
    },
    {
     "name": "stderr",
     "output_type": "stream",
     "text": [
      "C:\\mayuan\\Anaconda3\\lib\\site-packages\\sklearn\\utils\\validation.py:595: DataConversionWarning: Data with input dtype int64 was converted to float64 by MinMaxScaler.\n",
      "  warnings.warn(msg, DataConversionWarning)\n"
     ]
    },
    {
     "name": "stdout",
     "output_type": "stream",
     "text": [
      "Early stopping at 20.15748031496063. Iteration 10\n",
      "Finished replication_attention_lstm - cboe in 25.91669022814142 seconds.\n",
      "Starting m\n"
     ]
    },
    {
     "name": "stderr",
     "output_type": "stream",
     "text": [
      "C:\\mayuan\\Anaconda3\\lib\\site-packages\\sklearn\\utils\\validation.py:595: DataConversionWarning: Data with input dtype int64 was converted to float64 by MinMaxScaler.\n",
      "  warnings.warn(msg, DataConversionWarning)\n"
     ]
    },
    {
     "name": "stdout",
     "output_type": "stream",
     "text": [
      "Early stopping at 11.636363636363637. Iteration 10\n",
      "Finished replication_attention_lstm - m in 43.30200026965326 seconds.\n",
      "Starting var\n"
     ]
    },
    {
     "name": "stderr",
     "output_type": "stream",
     "text": [
      "C:\\mayuan\\Anaconda3\\lib\\site-packages\\sklearn\\utils\\validation.py:595: DataConversionWarning: Data with input dtype int64 was converted to float64 by MinMaxScaler.\n",
      "  warnings.warn(msg, DataConversionWarning)\n"
     ]
    },
    {
     "name": "stdout",
     "output_type": "stream",
     "text": [
      "Early stopping at 12.8. Iteration 11\n",
      "Finished replication_attention_lstm - var in 46.698140245862305 seconds.\n",
      "Starting tmk\n"
     ]
    },
    {
     "name": "stderr",
     "output_type": "stream",
     "text": [
      "C:\\mayuan\\Anaconda3\\lib\\site-packages\\sklearn\\utils\\validation.py:595: DataConversionWarning: Data with input dtype int64 was converted to float64 by MinMaxScaler.\n",
      "  warnings.warn(msg, DataConversionWarning)\n"
     ]
    },
    {
     "name": "stdout",
     "output_type": "stream",
     "text": [
      "Early stopping at 5.873804971319312. Iteration 12\n",
      "Finished replication_attention_lstm - tmk in 63.93311632124687 seconds.\n",
      "Starting irm\n"
     ]
    },
    {
     "name": "stderr",
     "output_type": "stream",
     "text": [
      "C:\\mayuan\\Anaconda3\\lib\\site-packages\\sklearn\\utils\\validation.py:595: DataConversionWarning: Data with input dtype int64 was converted to float64 by MinMaxScaler.\n",
      "  warnings.warn(msg, DataConversionWarning)\n"
     ]
    },
    {
     "name": "stdout",
     "output_type": "stream",
     "text": [
      "Early stopping at 11.636363636363637. Iteration 10\n",
      "Finished replication_attention_lstm - irm in 43.494871183681084 seconds.\n",
      "Starting qrvo\n"
     ]
    },
    {
     "name": "stderr",
     "output_type": "stream",
     "text": [
      "C:\\mayuan\\Anaconda3\\lib\\site-packages\\sklearn\\utils\\validation.py:595: DataConversionWarning: Data with input dtype int64 was converted to float64 by MinMaxScaler.\n",
      "  warnings.warn(msg, DataConversionWarning)\n"
     ]
    },
    {
     "name": "stdout",
     "output_type": "stream",
     "text": [
      "Early stopping at 69.03370786516854. Iteration 12\n",
      "Finished replication_attention_lstm - qrvo in 12.852745428552453 seconds.\n",
      "Starting uaa\n"
     ]
    },
    {
     "name": "stderr",
     "output_type": "stream",
     "text": [
      "C:\\mayuan\\Anaconda3\\lib\\site-packages\\sklearn\\utils\\validation.py:595: DataConversionWarning: Data with input dtype int64 was converted to float64 by MinMaxScaler.\n",
      "  warnings.warn(msg, DataConversionWarning)\n"
     ]
    },
    {
     "name": "stdout",
     "output_type": "stream",
     "text": [
      "Early stopping at 12.337349397590362. Iteration 10\n",
      "Finished replication_attention_lstm - uaa in 40.41363444234389 seconds.\n",
      "Starting wu\n"
     ]
    },
    {
     "name": "stderr",
     "output_type": "stream",
     "text": [
      "C:\\mayuan\\Anaconda3\\lib\\site-packages\\sklearn\\utils\\validation.py:595: DataConversionWarning: Data with input dtype int64 was converted to float64 by MinMaxScaler.\n",
      "  warnings.warn(msg, DataConversionWarning)\n"
     ]
    },
    {
     "name": "stdout",
     "output_type": "stream",
     "text": [
      "Early stopping at 13.2987012987013. Iteration 10\n",
      "Finished replication_attention_lstm - wu in 37.72145273700903 seconds.\n",
      "Starting flir\n"
     ]
    },
    {
     "name": "stderr",
     "output_type": "stream",
     "text": [
      "C:\\mayuan\\Anaconda3\\lib\\site-packages\\sklearn\\utils\\validation.py:595: DataConversionWarning: Data with input dtype int64 was converted to float64 by MinMaxScaler.\n",
      "  warnings.warn(msg, DataConversionWarning)\n"
     ]
    },
    {
     "name": "stdout",
     "output_type": "stream",
     "text": [
      "Early stopping at 11.636363636363637. Iteration 10\n",
      "Finished replication_attention_lstm - flir in 42.97200214129714 seconds.\n",
      "Starting slg\n"
     ]
    },
    {
     "name": "stderr",
     "output_type": "stream",
     "text": [
      "C:\\mayuan\\Anaconda3\\lib\\site-packages\\sklearn\\utils\\validation.py:595: DataConversionWarning: Data with input dtype int64 was converted to float64 by MinMaxScaler.\n",
      "  warnings.warn(msg, DataConversionWarning)\n"
     ]
    },
    {
     "name": "stdout",
     "output_type": "stream",
     "text": [
      "Early stopping at 11.636363636363637. Iteration 10\n",
      "Finished replication_attention_lstm - slg in 43.39118211095263 seconds.\n",
      "Starting xray\n"
     ]
    },
    {
     "name": "stderr",
     "output_type": "stream",
     "text": [
      "C:\\mayuan\\Anaconda3\\lib\\site-packages\\sklearn\\utils\\validation.py:595: DataConversionWarning: Data with input dtype int64 was converted to float64 by MinMaxScaler.\n",
      "  warnings.warn(msg, DataConversionWarning)\n"
     ]
    },
    {
     "name": "stdout",
     "output_type": "stream",
     "text": [
      "Early stopping at 5.517241379310345. Iteration 10\n",
      "Finished replication_attention_lstm - xray in 53.27422029533295 seconds.\n",
      "Starting alk\n"
     ]
    },
    {
     "name": "stderr",
     "output_type": "stream",
     "text": [
      "C:\\mayuan\\Anaconda3\\lib\\site-packages\\sklearn\\utils\\validation.py:595: DataConversionWarning: Data with input dtype int64 was converted to float64 by MinMaxScaler.\n",
      "  warnings.warn(msg, DataConversionWarning)\n"
     ]
    },
    {
     "name": "stdout",
     "output_type": "stream",
     "text": [
      "Early stopping at 11.636363636363637. Iteration 10\n",
      "Finished replication_attention_lstm - alk in 43.063049937621486 seconds.\n",
      "Starting xrx\n"
     ]
    },
    {
     "name": "stderr",
     "output_type": "stream",
     "text": [
      "C:\\mayuan\\Anaconda3\\lib\\site-packages\\sklearn\\utils\\validation.py:595: DataConversionWarning: Data with input dtype int64 was converted to float64 by MinMaxScaler.\n",
      "  warnings.warn(msg, DataConversionWarning)\n"
     ]
    },
    {
     "name": "stdout",
     "output_type": "stream",
     "text": [
      "Early stopping at 3.56794425087108. Iteration 10\n",
      "Finished replication_attention_lstm - xrx in 58.62116277442465 seconds.\n",
      "Starting evhc\n"
     ]
    },
    {
     "name": "stderr",
     "output_type": "stream",
     "text": [
      "C:\\mayuan\\Anaconda3\\lib\\site-packages\\sklearn\\utils\\validation.py:595: DataConversionWarning: Data with input dtype int64 was converted to float64 by MinMaxScaler.\n",
      "  warnings.warn(msg, DataConversionWarning)\n"
     ]
    },
    {
     "name": "stdout",
     "output_type": "stream",
     "text": [
      "Early stopping at 36.056338028169016. Iteration 10\n",
      "Finished replication_attention_lstm - evhc in 15.757774575566373 seconds.\n",
      "Starting fl\n"
     ]
    },
    {
     "name": "stderr",
     "output_type": "stream",
     "text": [
      "C:\\mayuan\\Anaconda3\\lib\\site-packages\\sklearn\\utils\\validation.py:595: DataConversionWarning: Data with input dtype int64 was converted to float64 by MinMaxScaler.\n",
      "  warnings.warn(msg, DataConversionWarning)\n"
     ]
    },
    {
     "name": "stdout",
     "output_type": "stream",
     "text": [
      "Early stopping at 11.636363636363637. Iteration 10\n",
      "Finished replication_attention_lstm - fl in 43.213807725850074 seconds.\n",
      "Starting hrb\n"
     ]
    },
    {
     "name": "stderr",
     "output_type": "stream",
     "text": [
      "C:\\mayuan\\Anaconda3\\lib\\site-packages\\sklearn\\utils\\validation.py:595: DataConversionWarning: Data with input dtype int64 was converted to float64 by MinMaxScaler.\n",
      "  warnings.warn(msg, DataConversionWarning)\n"
     ]
    },
    {
     "name": "stdout",
     "output_type": "stream",
     "text": [
      "Early stopping at 4.714548802946593. Iteration 10\n",
      "Finished replication_attention_lstm - hrb in 55.029651049343556 seconds.\n",
      "Starting srcl\n"
     ]
    },
    {
     "name": "stderr",
     "output_type": "stream",
     "text": [
      "C:\\mayuan\\Anaconda3\\lib\\site-packages\\sklearn\\utils\\validation.py:595: DataConversionWarning: Data with input dtype int64 was converted to float64 by MinMaxScaler.\n",
      "  warnings.warn(msg, DataConversionWarning)\n"
     ]
    },
    {
     "name": "stdout",
     "output_type": "stream",
     "text": [
      "Early stopping at 11.636363636363637. Iteration 10\n",
      "Finished replication_attention_lstm - srcl in 42.989038083117975 seconds.\n",
      "Starting ctxs\n"
     ]
    },
    {
     "name": "stderr",
     "output_type": "stream",
     "text": [
      "C:\\mayuan\\Anaconda3\\lib\\site-packages\\sklearn\\utils\\validation.py:595: DataConversionWarning: Data with input dtype int64 was converted to float64 by MinMaxScaler.\n",
      "  warnings.warn(msg, DataConversionWarning)\n"
     ]
    },
    {
     "name": "stdout",
     "output_type": "stream",
     "text": [
      "Early stopping at 6.69281045751634. Iteration 10\n",
      "Finished replication_lstm - ctxs in 7.996956445310161 seconds.\n",
      "Starting tpr\n"
     ]
    },
    {
     "name": "stderr",
     "output_type": "stream",
     "text": [
      "C:\\mayuan\\Anaconda3\\lib\\site-packages\\sklearn\\utils\\validation.py:595: DataConversionWarning: Data with input dtype int64 was converted to float64 by MinMaxScaler.\n",
      "  warnings.warn(msg, DataConversionWarning)\n"
     ]
    },
    {
     "name": "stdout",
     "output_type": "stream",
     "text": [
      "Early stopping at 11.636363636363637. Iteration 10\n",
      "Finished replication_lstm - tpr in 6.857734013799927 seconds.\n",
      "Starting fti\n"
     ]
    },
    {
     "name": "stderr",
     "output_type": "stream",
     "text": [
      "C:\\mayuan\\Anaconda3\\lib\\site-packages\\sklearn\\utils\\validation.py:595: DataConversionWarning: Data with input dtype int64 was converted to float64 by MinMaxScaler.\n",
      "  warnings.warn(msg, DataConversionWarning)\n"
     ]
    },
    {
     "name": "stdout",
     "output_type": "stream",
     "text": [
      "Early stopping at 12.8. Iteration 11\n",
      "Finished replication_lstm - fti in 7.3348854514104005 seconds.\n",
      "Starting cms\n"
     ]
    },
    {
     "name": "stderr",
     "output_type": "stream",
     "text": [
      "C:\\mayuan\\Anaconda3\\lib\\site-packages\\sklearn\\utils\\validation.py:595: DataConversionWarning: Data with input dtype int64 was converted to float64 by MinMaxScaler.\n",
      "  warnings.warn(msg, DataConversionWarning)\n"
     ]
    },
    {
     "name": "stdout",
     "output_type": "stream",
     "text": [
      "Early stopping at 4.448305821025196. Iteration 10\n",
      "Finished replication_lstm - cms in 8.738813514293042 seconds.\n",
      "Starting stx\n"
     ]
    },
    {
     "name": "stderr",
     "output_type": "stream",
     "text": [
      "C:\\mayuan\\Anaconda3\\lib\\site-packages\\sklearn\\utils\\validation.py:595: DataConversionWarning: Data with input dtype int64 was converted to float64 by MinMaxScaler.\n",
      "  warnings.warn(msg, DataConversionWarning)\n"
     ]
    },
    {
     "name": "stdout",
     "output_type": "stream",
     "text": [
      "Early stopping at 11.636363636363637. Iteration 10\n",
      "Finished replication_lstm - stx in 6.9810958275995745 seconds.\n",
      "Starting cf\n"
     ]
    },
    {
     "name": "stderr",
     "output_type": "stream",
     "text": [
      "C:\\mayuan\\Anaconda3\\lib\\site-packages\\sklearn\\utils\\validation.py:595: DataConversionWarning: Data with input dtype int64 was converted to float64 by MinMaxScaler.\n",
      "  warnings.warn(msg, DataConversionWarning)\n"
     ]
    },
    {
     "name": "stdout",
     "output_type": "stream",
     "text": [
      "Early stopping at 12.075471698113208. Iteration 10\n",
      "Finished replication_lstm - cf in 6.83050074154653 seconds.\n",
      "Starting mos\n"
     ]
    },
    {
     "name": "stderr",
     "output_type": "stream",
     "text": [
      "C:\\mayuan\\Anaconda3\\lib\\site-packages\\sklearn\\utils\\validation.py:595: DataConversionWarning: Data with input dtype int64 was converted to float64 by MinMaxScaler.\n",
      "  warnings.warn(msg, DataConversionWarning)\n"
     ]
    },
    {
     "name": "stdout",
     "output_type": "stream",
     "text": [
      "Early stopping at 11.636363636363637. Iteration 10\n",
      "Finished replication_lstm - mos in 7.431732499418331 seconds.\n",
      "Starting expd\n"
     ]
    },
    {
     "name": "stderr",
     "output_type": "stream",
     "text": [
      "C:\\mayuan\\Anaconda3\\lib\\site-packages\\sklearn\\utils\\validation.py:595: DataConversionWarning: Data with input dtype int64 was converted to float64 by MinMaxScaler.\n",
      "  warnings.warn(msg, DataConversionWarning)\n"
     ]
    },
    {
     "name": "stdout",
     "output_type": "stream",
     "text": [
      "Early stopping at 5.3222453222453225. Iteration 10\n",
      "Finished replication_lstm - expd in 8.351175580110066 seconds.\n",
      "Starting cinf\n"
     ]
    },
    {
     "name": "stderr",
     "output_type": "stream",
     "text": [
      "C:\\mayuan\\Anaconda3\\lib\\site-packages\\sklearn\\utils\\validation.py:595: DataConversionWarning: Data with input dtype int64 was converted to float64 by MinMaxScaler.\n",
      "  warnings.warn(msg, DataConversionWarning)\n"
     ]
    },
    {
     "name": "stdout",
     "output_type": "stream",
     "text": [
      "Early stopping at 5.294725956566701. Iteration 10\n",
      "Finished replication_lstm - cinf in 8.322499037155922 seconds.\n",
      "Starting alb\n"
     ]
    },
    {
     "name": "stderr",
     "output_type": "stream",
     "text": [
      "C:\\mayuan\\Anaconda3\\lib\\site-packages\\sklearn\\utils\\validation.py:595: DataConversionWarning: Data with input dtype int64 was converted to float64 by MinMaxScaler.\n",
      "  warnings.warn(msg, DataConversionWarning)\n"
     ]
    },
    {
     "name": "stdout",
     "output_type": "stream",
     "text": [
      "Early stopping at 11.636363636363637. Iteration 10\n",
      "Finished replication_lstm - alb in 6.896250625066386 seconds.\n",
      "Starting mas\n"
     ]
    },
    {
     "name": "stderr",
     "output_type": "stream",
     "text": [
      "C:\\mayuan\\Anaconda3\\lib\\site-packages\\sklearn\\utils\\validation.py:595: DataConversionWarning: Data with input dtype int64 was converted to float64 by MinMaxScaler.\n",
      "  warnings.warn(msg, DataConversionWarning)\n"
     ]
    },
    {
     "name": "stdout",
     "output_type": "stream",
     "text": [
      "Early stopping at 4.2419221209610605. Iteration 10\n",
      "Finished replication_lstm - mas in 8.780249662506776 seconds.\n",
      "Starting cboe\n"
     ]
    },
    {
     "name": "stderr",
     "output_type": "stream",
     "text": [
      "C:\\mayuan\\Anaconda3\\lib\\site-packages\\sklearn\\utils\\validation.py:595: DataConversionWarning: Data with input dtype int64 was converted to float64 by MinMaxScaler.\n",
      "  warnings.warn(msg, DataConversionWarning)\n"
     ]
    },
    {
     "name": "stdout",
     "output_type": "stream",
     "text": [
      "Early stopping at 20.15748031496063. Iteration 10\n",
      "Finished replication_lstm - cboe in 4.655151031423657 seconds.\n",
      "Starting m\n"
     ]
    },
    {
     "name": "stderr",
     "output_type": "stream",
     "text": [
      "C:\\mayuan\\Anaconda3\\lib\\site-packages\\sklearn\\utils\\validation.py:595: DataConversionWarning: Data with input dtype int64 was converted to float64 by MinMaxScaler.\n",
      "  warnings.warn(msg, DataConversionWarning)\n"
     ]
    },
    {
     "name": "stdout",
     "output_type": "stream",
     "text": [
      "Early stopping at 11.636363636363637. Iteration 10\n",
      "Finished replication_lstm - m in 6.875651164259125 seconds.\n",
      "Starting var\n"
     ]
    },
    {
     "name": "stderr",
     "output_type": "stream",
     "text": [
      "C:\\mayuan\\Anaconda3\\lib\\site-packages\\sklearn\\utils\\validation.py:595: DataConversionWarning: Data with input dtype int64 was converted to float64 by MinMaxScaler.\n",
      "  warnings.warn(msg, DataConversionWarning)\n"
     ]
    },
    {
     "name": "stdout",
     "output_type": "stream",
     "text": [
      "Early stopping at 11.636363636363637. Iteration 10\n",
      "Finished replication_lstm - var in 6.948010397010421 seconds.\n",
      "Starting tmk\n"
     ]
    },
    {
     "name": "stderr",
     "output_type": "stream",
     "text": [
      "C:\\mayuan\\Anaconda3\\lib\\site-packages\\sklearn\\utils\\validation.py:595: DataConversionWarning: Data with input dtype int64 was converted to float64 by MinMaxScaler.\n",
      "  warnings.warn(msg, DataConversionWarning)\n"
     ]
    },
    {
     "name": "stdout",
     "output_type": "stream",
     "text": [
      "Early stopping at 5.873804971319312. Iteration 12\n",
      "Finished replication_lstm - tmk in 9.736695541562085 seconds.\n",
      "Starting irm\n"
     ]
    },
    {
     "name": "stderr",
     "output_type": "stream",
     "text": [
      "C:\\mayuan\\Anaconda3\\lib\\site-packages\\sklearn\\utils\\validation.py:595: DataConversionWarning: Data with input dtype int64 was converted to float64 by MinMaxScaler.\n",
      "  warnings.warn(msg, DataConversionWarning)\n"
     ]
    },
    {
     "name": "stdout",
     "output_type": "stream",
     "text": [
      "Early stopping at 11.636363636363637. Iteration 10\n",
      "Finished replication_lstm - irm in 7.120575965702756 seconds.\n",
      "Starting qrvo\n"
     ]
    },
    {
     "name": "stderr",
     "output_type": "stream",
     "text": [
      "C:\\mayuan\\Anaconda3\\lib\\site-packages\\sklearn\\utils\\validation.py:595: DataConversionWarning: Data with input dtype int64 was converted to float64 by MinMaxScaler.\n",
      "  warnings.warn(msg, DataConversionWarning)\n"
     ]
    },
    {
     "name": "stdout",
     "output_type": "stream",
     "text": [
      "Early stopping at 57.52808988764045. Iteration 10\n",
      "Finished replication_lstm - qrvo in 2.855585321077797 seconds.\n",
      "Starting uaa\n"
     ]
    },
    {
     "name": "stderr",
     "output_type": "stream",
     "text": [
      "C:\\mayuan\\Anaconda3\\lib\\site-packages\\sklearn\\utils\\validation.py:595: DataConversionWarning: Data with input dtype int64 was converted to float64 by MinMaxScaler.\n",
      "  warnings.warn(msg, DataConversionWarning)\n"
     ]
    },
    {
     "name": "stdout",
     "output_type": "stream",
     "text": [
      "Early stopping at 12.337349397590362. Iteration 10\n",
      "Finished replication_lstm - uaa in 6.616786882336328 seconds.\n",
      "Starting wu\n"
     ]
    },
    {
     "name": "stderr",
     "output_type": "stream",
     "text": [
      "C:\\mayuan\\Anaconda3\\lib\\site-packages\\sklearn\\utils\\validation.py:595: DataConversionWarning: Data with input dtype int64 was converted to float64 by MinMaxScaler.\n",
      "  warnings.warn(msg, DataConversionWarning)\n"
     ]
    },
    {
     "name": "stdout",
     "output_type": "stream",
     "text": [
      "Early stopping at 14.628571428571428. Iteration 11\n",
      "Finished replication_lstm - wu in 7.405689911270429 seconds.\n",
      "Starting flir\n"
     ]
    },
    {
     "name": "stderr",
     "output_type": "stream",
     "text": [
      "C:\\mayuan\\Anaconda3\\lib\\site-packages\\sklearn\\utils\\validation.py:595: DataConversionWarning: Data with input dtype int64 was converted to float64 by MinMaxScaler.\n",
      "  warnings.warn(msg, DataConversionWarning)\n"
     ]
    },
    {
     "name": "stdout",
     "output_type": "stream",
     "text": [
      "Early stopping at 11.636363636363637. Iteration 10\n",
      "Finished replication_lstm - flir in 6.938790986299409 seconds.\n",
      "Starting slg\n"
     ]
    },
    {
     "name": "stderr",
     "output_type": "stream",
     "text": [
      "C:\\mayuan\\Anaconda3\\lib\\site-packages\\sklearn\\utils\\validation.py:595: DataConversionWarning: Data with input dtype int64 was converted to float64 by MinMaxScaler.\n",
      "  warnings.warn(msg, DataConversionWarning)\n"
     ]
    },
    {
     "name": "stdout",
     "output_type": "stream",
     "text": [
      "Early stopping at 11.636363636363637. Iteration 10\n",
      "Finished replication_lstm - slg in 7.0245549441267485 seconds.\n",
      "Starting xray\n"
     ]
    },
    {
     "name": "stderr",
     "output_type": "stream",
     "text": [
      "C:\\mayuan\\Anaconda3\\lib\\site-packages\\sklearn\\utils\\validation.py:595: DataConversionWarning: Data with input dtype int64 was converted to float64 by MinMaxScaler.\n",
      "  warnings.warn(msg, DataConversionWarning)\n"
     ]
    },
    {
     "name": "stdout",
     "output_type": "stream",
     "text": [
      "Early stopping at 5.517241379310345. Iteration 10\n",
      "Finished replication_lstm - xray in 8.376028053040955 seconds.\n",
      "Starting alk\n"
     ]
    },
    {
     "name": "stderr",
     "output_type": "stream",
     "text": [
      "C:\\mayuan\\Anaconda3\\lib\\site-packages\\sklearn\\utils\\validation.py:595: DataConversionWarning: Data with input dtype int64 was converted to float64 by MinMaxScaler.\n",
      "  warnings.warn(msg, DataConversionWarning)\n"
     ]
    },
    {
     "name": "stdout",
     "output_type": "stream",
     "text": [
      "Early stopping at 11.636363636363637. Iteration 10\n",
      "Finished replication_lstm - alk in 6.9565414523615345 seconds.\n",
      "Starting xrx\n"
     ]
    },
    {
     "name": "stderr",
     "output_type": "stream",
     "text": [
      "C:\\mayuan\\Anaconda3\\lib\\site-packages\\sklearn\\utils\\validation.py:595: DataConversionWarning: Data with input dtype int64 was converted to float64 by MinMaxScaler.\n",
      "  warnings.warn(msg, DataConversionWarning)\n"
     ]
    },
    {
     "name": "stdout",
     "output_type": "stream",
     "text": [
      "Early stopping at 3.56794425087108. Iteration 10\n",
      "Finished replication_lstm - xrx in 9.285983207542358 seconds.\n",
      "Starting evhc\n"
     ]
    },
    {
     "name": "stderr",
     "output_type": "stream",
     "text": [
      "C:\\mayuan\\Anaconda3\\lib\\site-packages\\sklearn\\utils\\validation.py:595: DataConversionWarning: Data with input dtype int64 was converted to float64 by MinMaxScaler.\n",
      "  warnings.warn(msg, DataConversionWarning)\n"
     ]
    },
    {
     "name": "stdout",
     "output_type": "stream",
     "text": [
      "Early stopping at 36.056338028169016. Iteration 10\n",
      "Finished replication_lstm - evhc in 3.512398645362282 seconds.\n",
      "Starting fl\n"
     ]
    },
    {
     "name": "stderr",
     "output_type": "stream",
     "text": [
      "C:\\mayuan\\Anaconda3\\lib\\site-packages\\sklearn\\utils\\validation.py:595: DataConversionWarning: Data with input dtype int64 was converted to float64 by MinMaxScaler.\n",
      "  warnings.warn(msg, DataConversionWarning)\n"
     ]
    },
    {
     "name": "stdout",
     "output_type": "stream",
     "text": [
      "Early stopping at 11.636363636363637. Iteration 10\n",
      "Finished replication_lstm - fl in 7.173585017291543 seconds.\n",
      "Starting hrb\n"
     ]
    },
    {
     "name": "stderr",
     "output_type": "stream",
     "text": [
      "C:\\mayuan\\Anaconda3\\lib\\site-packages\\sklearn\\utils\\validation.py:595: DataConversionWarning: Data with input dtype int64 was converted to float64 by MinMaxScaler.\n",
      "  warnings.warn(msg, DataConversionWarning)\n"
     ]
    },
    {
     "name": "stdout",
     "output_type": "stream",
     "text": [
      "Early stopping at 4.714548802946593. Iteration 10\n",
      "Finished replication_lstm - hrb in 8.688211430908723 seconds.\n",
      "Starting srcl\n"
     ]
    },
    {
     "name": "stderr",
     "output_type": "stream",
     "text": [
      "C:\\mayuan\\Anaconda3\\lib\\site-packages\\sklearn\\utils\\validation.py:595: DataConversionWarning: Data with input dtype int64 was converted to float64 by MinMaxScaler.\n",
      "  warnings.warn(msg, DataConversionWarning)\n"
     ]
    },
    {
     "name": "stdout",
     "output_type": "stream",
     "text": [
      "Early stopping at 11.636363636363637. Iteration 10\n",
      "Finished replication_lstm - srcl in 7.075476742975525 seconds.\n"
     ]
    }
   ],
   "source": [
    "for name, model in models.items():\n",
    "    for ticker in tickers:\n",
    "        start = timeit.default_timer()\n",
    "        print(\"Starting \" + str(ticker))\n",
    "        df_stock = df[df.Ticker == ticker][35:].copy()\n",
    "        df_stock = df_stock.replace([np.inf, -np.inf], np.nan)\n",
    "        df_stock = df_stock.dropna()\n",
    "        df_stock = df_stock[df_stock['Volume'] > 0]\n",
    "        df_stock.drop(['Ticker'], 1, inplace = True)\n",
    "        \n",
    "        if len(df_stock) < 252:\n",
    "            print(\"Less than one year of trading data for \" + str(ticker) + \", skipping it.\")\n",
    "            continue\n",
    "\n",
    "        cols = list(df_stock.columns.values)\n",
    "\n",
    "        df_stock_norm = df_stock.copy()\n",
    "        df_stock_norm = normalize_data(df_stock_norm)\n",
    "\n",
    "        x_train, y_train, x_valid, y_valid, x_test, y_test, returns_point = load_data(df_stock_norm, seq_len, window_len)\n",
    "        index_in_epoch = 0\n",
    "        perm_array  = np.arange(x_train.shape[0])\n",
    "        np.random.shuffle(perm_array)\n",
    "\n",
    "        y_train = one_hot_encode(y_train)\n",
    "        y_valid = one_hot_encode(y_valid)\n",
    "        y_test = one_hot_encode(y_test)\n",
    "\n",
    "        tf.reset_default_graph()\n",
    "\n",
    "        X = tf.placeholder(tf.float32, [None, n_steps, n_inputs])\n",
    "        y = tf.placeholder(tf.float32, [None, n_outputs])\n",
    "\n",
    "        is_training = tf.placeholder(tf.bool)\n",
    "\n",
    "        layers = []\n",
    "        for l in model['layers']:     \n",
    "            if l['layer'] == 'BasicLSTM':\n",
    "                cell = tf.contrib.rnn.LSTMCell(num_units = model['neurons'], activation = model['activation'], name='basic_lstm_cell')\n",
    "\n",
    "            if l['attention'] == True:\n",
    "                cell = tf.contrib.rnn.AttentionCellWrapper(cell, attn_length = l['attention_length'], state_is_tuple = True)\n",
    "\n",
    "            cell = tf.contrib.rnn.DropoutWrapper(cell, output_keep_prob= 1 - model['dropout'])\n",
    "            layers.append(cell)\n",
    "\n",
    "        multi_layer_cell = tf.contrib.rnn.MultiRNNCell(layers)\n",
    "        rnn_outputs, states = tf.nn.dynamic_rnn(multi_layer_cell, X, dtype=tf.float32)\n",
    "\n",
    "        stacked_rnn_outputs = tf.reshape(rnn_outputs, [-1, model['neurons']]) \n",
    "        stacked_outputs = tf.layers.dense(stacked_rnn_outputs, n_outputs)\n",
    "        ## Batch Normalization\n",
    "        if model['batch_normalization']:\n",
    "            stacked_outputs = tf.layers.batch_normalization(stacked_outputs, training = is_training)\n",
    "\n",
    "        outputs = tf.reshape(stacked_outputs, [-1, n_steps, n_outputs])\n",
    "        outputs = tf.nn.softmax(outputs)\n",
    "        outputs = outputs[:, n_steps - 1, :] # keep only last output of sequence\n",
    "        \n",
    "        \n",
    "        loss = model['loss'](y, outputs)# loss function = mean squared error \n",
    "        optimizer = model['optimizer']\n",
    "        training_op = optimizer.minimize(loss)\n",
    "\n",
    "        train_set_size = x_train.shape[0]\n",
    "        test_set_size = x_test.shape[0]\n",
    "\n",
    "        loss_list = list()\n",
    "        sess_list = list()\n",
    "        batch_size = model['batch_size']\n",
    "        early_stop_time = -1\n",
    "        with tf.Session() as sess: \n",
    "            sess.run(tf.global_variables_initializer())\n",
    "            for iteration in range(int(n_epochs * train_set_size/batch_size)):\n",
    "                x_batch, y_batch = get_next_batch(batch_size) # fetch the next training batch \n",
    "\n",
    "                sess.run(training_op, feed_dict={X: x_batch, y: y_batch, is_training: True}) \n",
    "\n",
    "                mse_valid = loss.eval(feed_dict={X: x_valid, y: y_valid,is_training: False})\n",
    "\n",
    "                # If the first MSE - new MSE has improved more than min_delta, remove the first one so we can move on.\n",
    "                if iteration > 0 and len(loss_list) >= patience and loss_list[0] - mse_valid > min_delta:\n",
    "                    loss_list.pop(0)\n",
    "                    sess_list.pop(0)\n",
    "                elif iteration > 0 and len(loss_list) >= patience and loss_list[0] - mse_valid < min_delta:\n",
    "                    print(\"Early stopping at \" + str(iteration * batch_size/train_set_size) + \". Iteration \" + str(iteration))    \n",
    "                    early_stop_time = iteration * batch_size/train_set_size\n",
    "                    break\n",
    "\n",
    "                loss_list.append(mse_valid)\n",
    "                sess_list.append(sess)\n",
    "\n",
    "            # If we early stop, use the first one in the list, else use the last one since we hit epoch.\n",
    "            if early_stop_time == -1:\n",
    "                sess = sess_list[-1]\n",
    "            else:\n",
    "                sess = sess_list[0]\n",
    "\n",
    "            y_train_pred = sess.run(outputs, feed_dict={X: x_train,is_training: True})\n",
    "            y_valid_pred = sess.run(outputs, feed_dict={X: x_valid,is_training: False})\n",
    "            y_test_pred = sess.run(outputs, feed_dict={X: x_test,is_training: False})\n",
    "\n",
    "            pred_indicator = [1 if sdk[1] >= sdk[0] else 0 for sdk in y_test_pred]\n",
    "            test_indicator = [1 if sdk[1] >= sdk[0] else 0 for sdk in y_test]\n",
    "\n",
    "            comp = list()\n",
    "            correct = 0\n",
    "            test_position = 1\n",
    "            for i in range(len(pred_indicator)):\n",
    "                if pred_indicator[i] == test_indicator[i]:\n",
    "                    correct += 1\n",
    "                    comp.append(1)\n",
    "                else:\n",
    "                    comp.append(0)\n",
    "\n",
    "                daily_change = (df_stock['Close'].iloc[returns_point + i] - df_stock['Open'].iloc[returns_point + i])/df_stock['Open'].iloc[returns_point + i]\n",
    "                test_position *= 1 + (daily_change * (1 if pred_indicator[i] == 1 else -1))\n",
    "                \n",
    "#             total_change = df_stock['Close'][-1]/df_stock['Close'][-1 * returns_point]\n",
    "#             stop = timeit.default_timer()\n",
    "#             model_results.loc[(name, ticker), ('accuracy', 'total_change', 'predicted_investment', 'early_stop', 'time_in_seconds')] = [correct/len(pred_indicator), total_change, test_position, early_stop_time, (stop - start)]\n",
    "            total_change = df_stock['Close'][-1]/df_stock['Close'][-1 * returns_point]\n",
    "            stop = timeit.default_timer()\n",
    "            model_results.loc[(name, ticker), ('accuracy', 'total_change', 'predicted_investment', 'early_stop', 'time_in_seconds')] = [correct/len(pred_indicator), total_change, test_position, early_stop_time, (stop - start)]\n",
    "            print(\"Finished \" + str(name) + \" - \" + str(ticker) + \" in \" + str((stop - start)) + \" seconds.\")"
   ]
  },
  {
   "cell_type": "code",
   "execution_count": 14,
   "metadata": {},
   "outputs": [
    {
     "name": "stdout",
     "output_type": "stream",
     "text": [
      "                                   accuracy total_change predicted_investment  \\\n",
      "name                       ticker                                               \n",
      "replication_attention_lstm ctxs    0.477064      1.79131             0.306914   \n",
      "                           tpr     0.460317      1.38707              0.84486   \n",
      "                           fti     0.507937      0.88117              0.74983   \n",
      "                           cms     0.518293      2.74929             0.853589   \n",
      "                           stx     0.603175     0.847461             0.983753   \n",
      "                           cf      0.590164     0.738116              1.15352   \n",
      "                           mos     0.634921     0.571186             0.872276   \n",
      "                           expd    0.492754      1.68009              1.03159   \n",
      "                           cinf    0.507246      2.14903              0.79609   \n",
      "                           alb     0.555556      2.85639              1.03556   \n",
      "                           mas     0.476744      6.32806              1.38653   \n",
      "                           cboe    0.222222      1.70178             0.983396   \n",
      "                           m       0.428571     0.348868             0.791057   \n",
      "                           var     0.555556      1.23749             0.892098   \n",
      "                           tmk     0.604027      2.61937             0.943227   \n",
      "                           irm     0.412698      1.54695             0.805271   \n",
      "                           qrvo    0.692308      1.02078              1.09879   \n",
      "                           uaa     0.627119     0.253339              1.35698   \n",
      "                           wu      0.436364      1.14464             0.731455   \n",
      "                           flir    0.507937      1.58484              1.17518   \n",
      "                           slg      0.52381     0.917854              1.00525   \n",
      "                           xray    0.431818      1.54776             0.647819   \n",
      "                           alk     0.507937     0.807294              1.20238   \n",
      "                           xrx     0.463415       1.0383             0.562584   \n",
      "                           evhc        0.55     0.350274              1.02503   \n",
      "                           fl      0.507937      0.43341             0.659264   \n",
      "                           hrb     0.554839      2.00272              1.06506   \n",
      "                           srcl    0.428571     0.439909              1.11008   \n",
      "replication_lstm           ctxs    0.477064      1.79131             0.306914   \n",
      "                           tpr     0.507937      1.38707               1.2497   \n",
      "                           fti     0.539683      0.88117             0.759937   \n",
      "                           cms     0.518293      2.74929             0.853589   \n",
      "                           stx     0.603175     0.847461             0.983753   \n",
      "                           cf      0.590164     0.738116              1.15352   \n",
      "                           mos     0.349206     0.571186              1.08917   \n",
      "                           expd    0.492754      1.68009              1.03159   \n",
      "                           cinf    0.514493      2.14903              1.28772   \n",
      "                           alb     0.555556      2.85639              1.03556   \n",
      "                           mas     0.523256      6.32806              0.68243   \n",
      "                           cboe    0.777778      1.70178              1.01229   \n",
      "                           m       0.428571     0.348868             0.791057   \n",
      "                           var     0.539683      1.23749             0.922559   \n",
      "                           tmk     0.543624      2.61937             0.805978   \n",
      "                           irm     0.587302      1.54695              1.20811   \n",
      "                           qrvo    0.692308      1.02078              1.09879   \n",
      "                           uaa     0.542373     0.253339              1.55927   \n",
      "                           wu      0.672727      1.14464             0.933706   \n",
      "                           flir    0.507937      1.58484              1.17518   \n",
      "                           slg      0.47619     0.917854             0.972394   \n",
      "                           xray    0.484848      1.54776             0.891512   \n",
      "                           alk     0.507937     0.807294              1.20238   \n",
      "                           xrx     0.536585       1.0383              1.70161   \n",
      "                           evhc        0.55     0.350274              1.02503   \n",
      "                           fl      0.507937      0.43341             0.659264   \n",
      "                           hrb     0.567742      2.00272              1.07464   \n",
      "                           srcl    0.428571     0.439909              1.11008   \n",
      "\n",
      "                                  early_stop time_in_seconds  \n",
      "name                       ticker                             \n",
      "replication_attention_lstm ctxs      6.69281         69.8901  \n",
      "                           tpr       11.6364         44.1456  \n",
      "                           fti       11.6364         43.6272  \n",
      "                           cms       4.44831         56.3474  \n",
      "                           stx          12.8         46.8083  \n",
      "                           cf        12.0755         41.4848  \n",
      "                           mos       11.6364         43.4736  \n",
      "                           expd      5.32225         53.9364  \n",
      "                           cinf      5.29473         54.0978  \n",
      "                           alb       11.6364         43.6297  \n",
      "                           mas       4.24192         56.8643  \n",
      "                           cboe      20.1575         25.9167  \n",
      "                           m         11.6364          43.302  \n",
      "                           var          12.8         46.6981  \n",
      "                           tmk        5.8738         63.9331  \n",
      "                           irm       11.6364         43.4949  \n",
      "                           qrvo      69.0337         12.8527  \n",
      "                           uaa       12.3373         40.4136  \n",
      "                           wu        13.2987         37.7215  \n",
      "                           flir      11.6364          42.972  \n",
      "                           slg       11.6364         43.3912  \n",
      "                           xray      5.51724         53.2742  \n",
      "                           alk       11.6364          43.063  \n",
      "                           xrx       3.56794         58.6212  \n",
      "                           evhc      36.0563         15.7578  \n",
      "                           fl        11.6364         43.2138  \n",
      "                           hrb       4.71455         55.0297  \n",
      "                           srcl      11.6364          42.989  \n",
      "replication_lstm           ctxs      6.69281         7.99696  \n",
      "                           tpr       11.6364         6.85773  \n",
      "                           fti          12.8         7.33489  \n",
      "                           cms       4.44831         8.73881  \n",
      "                           stx       11.6364          6.9811  \n",
      "                           cf        12.0755          6.8305  \n",
      "                           mos       11.6364         7.43173  \n",
      "                           expd      5.32225         8.35118  \n",
      "                           cinf      5.29473          8.3225  \n",
      "                           alb       11.6364         6.89625  \n",
      "                           mas       4.24192         8.78025  \n",
      "                           cboe      20.1575         4.65515  \n",
      "                           m         11.6364         6.87565  \n",
      "                           var       11.6364         6.94801  \n",
      "                           tmk        5.8738          9.7367  \n",
      "                           irm       11.6364         7.12058  \n",
      "                           qrvo      57.5281         2.85559  \n",
      "                           uaa       12.3373         6.61679  \n",
      "                           wu        14.6286         7.40569  \n",
      "                           flir      11.6364         6.93879  \n",
      "                           slg       11.6364         7.02455  \n",
      "                           xray      5.51724         8.37603  \n",
      "                           alk       11.6364         6.95654  \n",
      "                           xrx       3.56794         9.28598  \n",
      "                           evhc      36.0563          3.5124  \n",
      "                           fl        11.6364         7.17359  \n",
      "                           hrb       4.71455         8.68821  \n",
      "                           srcl      11.6364         7.07548  \n"
     ]
    }
   ],
   "source": [
    "print(model_results)"
   ]
  },
  {
   "cell_type": "code",
   "execution_count": 15,
   "metadata": {},
   "outputs": [],
   "source": [
    "#model_results.to_csv('tf_replication_SP.csv')"
   ]
  },
  {
   "cell_type": "code",
   "execution_count": null,
   "metadata": {},
   "outputs": [],
   "source": []
  }
 ],
 "metadata": {
  "kernelspec": {
   "display_name": "Python 3",
   "language": "python",
   "name": "python3"
  },
  "language_info": {
   "codemirror_mode": {
    "name": "ipython",
    "version": 3
   },
   "file_extension": ".py",
   "mimetype": "text/x-python",
   "name": "python",
   "nbconvert_exporter": "python",
   "pygments_lexer": "ipython3",
   "version": "3.6.5"
  },
  "toc": {
   "nav_menu": {},
   "number_sections": true,
   "sideBar": true,
   "skip_h1_title": false,
   "toc_cell": false,
   "toc_position": {},
   "toc_section_display": "block",
   "toc_window_display": false
  }
 },
 "nbformat": 4,
 "nbformat_minor": 2
}
